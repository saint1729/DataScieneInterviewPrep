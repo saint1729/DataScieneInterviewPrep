{
  "nbformat": 4,
  "nbformat_minor": 0,
  "metadata": {
    "colab": {
      "name": "python_hacks.ipynb",
      "provenance": [],
      "authorship_tag": "ABX9TyOJiowCMOL0N+lFOiXM8TeR",
      "include_colab_link": true
    },
    "kernelspec": {
      "name": "python3",
      "display_name": "Python 3"
    }
  },
  "cells": [
    {
      "cell_type": "markdown",
      "metadata": {
        "id": "view-in-github",
        "colab_type": "text"
      },
      "source": [
        "<a href=\"https://colab.research.google.com/github/saint1729/DataScieneInterviewPrep/blob/main/hacks/python_hacks.ipynb\" target=\"_parent\"><img src=\"https://colab.research.google.com/assets/colab-badge.svg\" alt=\"Open In Colab\"/></a>"
      ]
    },
    {
      "cell_type": "code",
      "metadata": {
        "colab": {
          "base_uri": "https://localhost:8080/"
        },
        "id": "icXBQhlFtaVB",
        "outputId": "9510e938-baf2-4613-e577-2ee225882808"
      },
      "source": [
        "def get_max(l):\n",
        "    max, n = l[0], len(l)\n",
        "    for i in range(2, n):\n",
        "        if l[i] > max:\n",
        "            max = l[i]\n",
        "    \n",
        "    return max\n",
        "\n",
        "print(get_max([1, 2, 3, 4, 5, 6, 3, 2, 1]));\n",
        "\n",
        "# TC: O(n)"
      ],
      "execution_count": null,
      "outputs": [
        {
          "output_type": "stream",
          "text": [
            "6\n"
          ],
          "name": "stdout"
        }
      ]
    },
    {
      "cell_type": "code",
      "metadata": {
        "id": "yRZ7zJWnuPHF"
      },
      "source": [
        "# TC: O(n*lg(n))\n",
        "\n",
        "# Insertion Sort:\n",
        "# [1, 2, 4, 5], 3\n",
        "# 1 + 2 + 3 + ... n\n",
        "# n * (n + 1) / 2 = (n^2 + n) / 2 = O(n^2)\n",
        "\n",
        "# Merge Sort:\n",
        "# [5, 2, 1, 8, 6, 4]\n",
        "# [1, 2, 5], [4, 6, 8]\n",
        "# [1, _, _, _, _, _]"
      ],
      "execution_count": 11,
      "outputs": []
    },
    {
      "cell_type": "code",
      "metadata": {
        "colab": {
          "base_uri": "https://localhost:8080/"
        },
        "id": "yUye2hhv671-",
        "outputId": "21cd92d4-f15c-4b86-ae1f-45114a026f53"
      },
      "source": [
        "def counting_sort(l):\n",
        "    c = [0] * 10\n",
        "    for i in l:\n",
        "        c[i - 1] += 1\n",
        "    print(c)\n",
        "    j = 0\n",
        "    for i in range(len(c)):\n",
        "        while c[i] > 0:\n",
        "            l[j] = i + 1\n",
        "            j += 1\n",
        "            c[i] -= 1\n",
        "    return l\n",
        "\n",
        "print(counting_sort([8, 2, 6, 1, 5, 4, 6, 2, 2, 4]))"
      ],
      "execution_count": 10,
      "outputs": [
        {
          "output_type": "stream",
          "text": [
            "[1, 3, 0, 2, 1, 2, 0, 1, 0, 0]\n",
            "[1, 2, 2, 2, 4, 4, 5, 6, 6, 8]\n"
          ],
          "name": "stdout"
        }
      ]
    }
  ]
}