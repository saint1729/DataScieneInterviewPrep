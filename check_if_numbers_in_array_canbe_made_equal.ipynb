{
  "nbformat": 4,
  "nbformat_minor": 0,
  "metadata": {
    "colab": {
      "name": "check_if_numbers_in_array_canbe_made_equal.ipynb",
      "provenance": [],
      "collapsed_sections": [],
      "authorship_tag": "ABX9TyMiX7ImOTKE0jcksng6IAn9",
      "include_colab_link": true
    },
    "kernelspec": {
      "name": "python3",
      "display_name": "Python 3"
    }
  },
  "cells": [
    {
      "cell_type": "markdown",
      "metadata": {
        "id": "view-in-github",
        "colab_type": "text"
      },
      "source": [
        "<a href=\"https://colab.research.google.com/github/saint1729/DataScieneInterviewPrep/blob/main/check_if_numbers_in_array_canbe_made_equal.ipynb\" target=\"_parent\"><img src=\"https://colab.research.google.com/assets/colab-badge.svg\" alt=\"Open In Colab\"/></a>"
      ]
    },
    {
      "cell_type": "code",
      "metadata": {
        "id": "HtyvRekXyhZI"
      },
      "source": [
        "import math\n",
        "\n",
        "def get_power_of_p(n, p):\n",
        "  ans = 0\n",
        "  while (n % p) == 0:\n",
        "    ans += 1\n",
        "    n /= p\n",
        "  return math.floor(ans)\n",
        "\n",
        "def check_if_array_numbers_can_be_made_equal(a):\n",
        "  n, prev = len(a), 0\n",
        "  for i in range(n):\n",
        "    p2 = get_power_of_p(a[i], 2)\n",
        "    p7 = get_power_of_p(a[i], 7)\n",
        "    a[i] /= ((2**p2) * (7**p7))\n",
        "    print(\"Residual = \" + str(a[i]) + \", Power of 2 = \" + str(p2) + \", Power of 7 = \" + str(p7))\n",
        "    if i > 0:\n",
        "      if a[i] != prev:\n",
        "        return \"No\"\n",
        "    prev = a[i]\n",
        "  return \"Yes\"\n"
      ],
      "execution_count": 23,
      "outputs": []
    },
    {
      "cell_type": "code",
      "metadata": {
        "colab": {
          "base_uri": "https://localhost:8080/"
        },
        "id": "eDGwhTcJz9I3",
        "outputId": "ebc3e521-7464-4760-dc05-d0bae693daa0"
      },
      "source": [
        "print(check_if_array_numbers_can_be_made_equal([128, 4, 2]))"
      ],
      "execution_count": 24,
      "outputs": [
        {
          "output_type": "stream",
          "text": [
            "Residual = 1.0, Power of 2 = 7, Power of 7 = 0\n",
            "Residual = 1.0, Power of 2 = 2, Power of 7 = 0\n",
            "Residual = 1.0, Power of 2 = 1, Power of 7 = 0\n",
            "Yes\n"
          ],
          "name": "stdout"
        }
      ]
    }
  ]
}