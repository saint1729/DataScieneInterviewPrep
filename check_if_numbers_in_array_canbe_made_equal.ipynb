{
  "nbformat": 4,
  "nbformat_minor": 0,
  "metadata": {
    "colab": {
      "name": "check_if_numbers_in_array_canbe_made_equal.ipynb",
      "provenance": [],
      "collapsed_sections": [],
      "authorship_tag": "ABX9TyNNTccY8NS+p3apedx+4+Hu",
      "include_colab_link": true
    },
    "kernelspec": {
      "name": "python3",
      "display_name": "Python 3"
    }
  },
  "cells": [
    {
      "cell_type": "markdown",
      "metadata": {
        "id": "view-in-github",
        "colab_type": "text"
      },
      "source": [
        "<a href=\"https://colab.research.google.com/github/saint1729/DataScieneInterviewPrep/blob/main/check_if_numbers_in_array_canbe_made_equal.ipynb\" target=\"_parent\"><img src=\"https://colab.research.google.com/assets/colab-badge.svg\" alt=\"Open In Colab\"/></a>"
      ]
    },
    {
      "cell_type": "code",
      "metadata": {
        "id": "HtyvRekXyhZI"
      },
      "source": [
        "import math\n",
        "\n",
        "def get_power_of_p(n, p):\n",
        "  ans = 0\n",
        "  while (n % p) == 0:\n",
        "    ans += 1\n",
        "    n /= p\n",
        "  return math.floor(ans)\n",
        "\n",
        "def check_if_array_numbers_can_be_made_equal(a):\n",
        "  n, prev = len(a), 0\n",
        "  for i in range(n):\n",
        "    p2 = get_power_of_p(a[i], 2)\n",
        "    p7 = get_power_of_p(a[i], 7)\n",
        "    a[i] /= ((2**p2) * (7**p7))\n",
        "    print(str(a[i]) + \" \" + str(p2) + \" \" + str(p7))\n",
        "    if i > 0:\n",
        "      if a[i] != prev:\n",
        "        return \"No\"\n",
        "    prev = a[i]\n",
        "  return \"Yes\"\n"
      ],
      "execution_count": 18,
      "outputs": []
    },
    {
      "cell_type": "code",
      "metadata": {
        "colab": {
          "base_uri": "https://localhost:8080/"
        },
        "id": "eDGwhTcJz9I3",
        "outputId": "be532bc1-44cb-4cac-e953-67d01ca5bb21"
      },
      "source": [
        "print(check_if_array_numbers_can_be_made_equal([128, 4, 2]))"
      ],
      "execution_count": 19,
      "outputs": [
        {
          "output_type": "stream",
          "text": [
            "1.0 7 0\n",
            "1.0 2 0\n",
            "1.0 1 0\n",
            "Yes\n"
          ],
          "name": "stdout"
        }
      ]
    }
  ]
}