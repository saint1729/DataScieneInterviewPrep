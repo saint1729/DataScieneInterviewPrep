{
  "nbformat": 4,
  "nbformat_minor": 0,
  "metadata": {
    "colab": {
      "name": "Welcome to Colaboratory",
      "provenance": [],
      "collapsed_sections": [],
      "include_colab_link": true
    },
    "kernelspec": {
      "display_name": "Python 3",
      "name": "python3"
    },
    "accelerator": "GPU"
  },
  "cells": [
    {
      "cell_type": "markdown",
      "metadata": {
        "id": "view-in-github",
        "colab_type": "text"
      },
      "source": [
        "<a href=\"https://colab.research.google.com/github/saint1729/DataScieneInterviewPrep/blob/main/print_power_set.ipynb\" target=\"_parent\"><img src=\"https://colab.research.google.com/assets/colab-badge.svg\" alt=\"Open In Colab\"/></a>"
      ]
    },
    {
      "cell_type": "code",
      "metadata": {
        "id": "oz1zGqYb9RGQ",
        "outputId": "fbda3d2a-54ee-443b-f452-cb4cc0439152",
        "colab": {
          "base_uri": "https://localhost:8080/"
        }
      },
      "source": [
        "import numpy as np\n",
        "\n",
        "def get_power_set(a):\n",
        "    n = len(a)\n",
        "    x = 2**n\n",
        "    ans = []\n",
        "    for i in range(x):\n",
        "        l = []\n",
        "        index = 0\n",
        "        while i > 0:\n",
        "            if (i % 2) == 1:\n",
        "                l.append(a[index])\n",
        "            i >>= 1\n",
        "            index += 1\n",
        "        ans.append(l)\n",
        "    return sorted(ans, key = len)\n",
        "\n",
        "print(get_power_set([1, 2, 3]))"
      ],
      "execution_count": 8,
      "outputs": [
        {
          "output_type": "stream",
          "text": [
            "[[], [1], [2], [3], [1, 2], [1, 3], [2, 3], [1, 2, 3]]\n"
          ],
          "name": "stdout"
        }
      ]
    },
    {
      "cell_type": "code",
      "metadata": {
        "id": "v_JCfV4DIIhG"
      },
      "source": [
        ""
      ],
      "execution_count": null,
      "outputs": []
    }
  ]
}